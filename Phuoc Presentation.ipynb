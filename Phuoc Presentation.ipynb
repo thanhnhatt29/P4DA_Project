{
 "cells": [
  {
   "cell_type": "markdown",
   "id": "70217e0a",
   "metadata": {
    "slideshow": {
     "slide_type": "slide"
    }
   },
   "source": [
    "# What Factors Affect Laptop Prices?"
   ]
  },
  {
   "cell_type": "markdown",
   "id": "68969f02",
   "metadata": {
    "slideshow": {
     "slide_type": "subslide"
    }
   },
   "source": [
    "Danh sách thành viên nhóm 1 - S2:\n",
    "\n",
    "| STT | MSSV | Họ và Tên |\n",
    "| --- | --- | :-- |\n",
    "| 35 | 20133076 | Văn Mai Thanh Nhật |\n",
    "| 42 | 20133082 | Huỳnh Minh Phước |\n",
    "| 3 | 20133029 | Nguyễn Trí Dũng |\n",
    "| 14 | 20133047 | Lương Gia Huy |\n"
   ]
  },
  {
   "cell_type": "markdown",
   "id": "a93a3e2d",
   "metadata": {
    "slideshow": {
     "slide_type": "slide"
    }
   },
   "source": [
    "## Phần 1 - Giới thiệu"
   ]
  },
  {
   "cell_type": "markdown",
   "id": "2afb6504",
   "metadata": {
    "slideshow": {
     "slide_type": "fragment"
    }
   },
   "source": [
    "### 1.1 Thông tin dữ liệu:\n",
    "**Bộ dữ liệu**: *Thông số kỹ thuật và giá thành của laptop hiện nay*\n",
    "\n",
    "**Nguồn dữ liệu**:  [Flipkart.com](https://www.flipkart.com/) \n",
    "\n",
    "**Phương pháp thu thập**: [Instant Data Scrapper](https://chrome.google.com/webstore/detail/instant-data-scraper/ofaokhiedipichpaobibbnahnkdoiiah)"
   ]
  },
  {
   "cell_type": "markdown",
   "id": "cbca1a08",
   "metadata": {
    "slideshow": {
     "slide_type": "subslide"
    }
   },
   "source": [
    "### Input\n",
    "- Thương hiệu, \n",
    "- Tên vi xử lí, Thương hiệu vi xử lí, Thế hệ vi xử lí, \n",
    "- Dung lượng ram, Loại ram\n",
    "- Dung lượng ổ cứng ssd, Dung lượng ổ cứng hdd\n",
    "- Hệ điều hành, Loại hệ điều hành\n",
    "- Dung lượng card đồ hoạ\n",
    "- Cân nặng, Kích thước màn hình \n",
    "- Số năm bảo hành của hãng, Cảm ứng màn hình, Ứng dụng MSOffice"
   ]
  },
  {
   "cell_type": "markdown",
   "id": "ebc64407",
   "metadata": {
    "slideshow": {
     "slide_type": "subslide"
    }
   },
   "source": [
    "### Nhóm đã sử dụng những thuật toán:\n",
    "- ANOVA F test: Nhiều nhóm độc lập\n",
    "- T-test : 2 nhóm độc lập\n",
    "- multicollinearity(đa cộng tuyến): dùng VIF\n",
    "- backward elimination: Loại bỏ các biến có p-values > 0,05\n",
    "\n",
    "### Để:\n",
    "- Tìm ra mối quan hệ của từng biến thông số kĩ thuật với giá của laptop\n",
    "- Dự đoán giá của một chiếc laptop dựa trên những thuộc tính được người dùng lựa chọn"
   ]
  },
  {
   "cell_type": "markdown",
   "id": "6abc1ca2",
   "metadata": {
    "slideshow": {
     "slide_type": "slide"
    }
   },
   "source": [
    "## Phần 2 - Dữ liệu\n",
    "### 2.1 Đọc dữ liệu:"
   ]
  },
  {
   "cell_type": "code",
   "execution_count": 16,
   "id": "bc1e47bc",
   "metadata": {
    "slideshow": {
     "slide_type": "fragment"
    }
   },
   "outputs": [
    {
     "data": {
      "text/html": [
       "<div>\n",
       "<style scoped>\n",
       "    .dataframe tbody tr th:only-of-type {\n",
       "        vertical-align: middle;\n",
       "    }\n",
       "\n",
       "    .dataframe tbody tr th {\n",
       "        vertical-align: top;\n",
       "    }\n",
       "\n",
       "    .dataframe thead th {\n",
       "        text-align: right;\n",
       "    }\n",
       "</style>\n",
       "<table border=\"1\" class=\"dataframe\">\n",
       "  <thead>\n",
       "    <tr style=\"text-align: right;\">\n",
       "      <th></th>\n",
       "      <th>brand</th>\n",
       "      <th>model</th>\n",
       "      <th>processor_brand</th>\n",
       "      <th>processor_name</th>\n",
       "      <th>processor_gnrtn</th>\n",
       "      <th>ram_gb</th>\n",
       "      <th>ram_type</th>\n",
       "      <th>ssd</th>\n",
       "      <th>hdd</th>\n",
       "      <th>os</th>\n",
       "      <th>...</th>\n",
       "      <th>display_size</th>\n",
       "      <th>warranty</th>\n",
       "      <th>Touchscreen</th>\n",
       "      <th>msoffice</th>\n",
       "      <th>latest_price</th>\n",
       "      <th>old_price</th>\n",
       "      <th>discount</th>\n",
       "      <th>star_rating</th>\n",
       "      <th>ratings</th>\n",
       "      <th>reviews</th>\n",
       "    </tr>\n",
       "  </thead>\n",
       "  <tbody>\n",
       "    <tr>\n",
       "      <th>0</th>\n",
       "      <td>Lenovo</td>\n",
       "      <td>A6-9225</td>\n",
       "      <td>AMD</td>\n",
       "      <td>A6-9225 Processor</td>\n",
       "      <td>10th</td>\n",
       "      <td>4 GB GB</td>\n",
       "      <td>DDR4</td>\n",
       "      <td>0 GB</td>\n",
       "      <td>1024 GB</td>\n",
       "      <td>Windows</td>\n",
       "      <td>...</td>\n",
       "      <td>NaN</td>\n",
       "      <td>0</td>\n",
       "      <td>No</td>\n",
       "      <td>No</td>\n",
       "      <td>324.870</td>\n",
       "      <td>426.270</td>\n",
       "      <td>23</td>\n",
       "      <td>3.700</td>\n",
       "      <td>63</td>\n",
       "      <td>12</td>\n",
       "    </tr>\n",
       "    <tr>\n",
       "      <th>1</th>\n",
       "      <td>Lenovo</td>\n",
       "      <td>Ideapad</td>\n",
       "      <td>AMD</td>\n",
       "      <td>APU Dual</td>\n",
       "      <td>10th</td>\n",
       "      <td>4 GB GB</td>\n",
       "      <td>DDR4</td>\n",
       "      <td>0 GB</td>\n",
       "      <td>512 GB</td>\n",
       "      <td>Windows</td>\n",
       "      <td>...</td>\n",
       "      <td>NaN</td>\n",
       "      <td>0</td>\n",
       "      <td>No</td>\n",
       "      <td>No</td>\n",
       "      <td>254.670</td>\n",
       "      <td>277.225</td>\n",
       "      <td>8</td>\n",
       "      <td>3.600</td>\n",
       "      <td>1894</td>\n",
       "      <td>256</td>\n",
       "    </tr>\n",
       "    <tr>\n",
       "      <th>2</th>\n",
       "      <td>Avita</td>\n",
       "      <td>PURA</td>\n",
       "      <td>AMD</td>\n",
       "      <td>APU Dual</td>\n",
       "      <td>10th</td>\n",
       "      <td>4 GB GB</td>\n",
       "      <td>DDR4</td>\n",
       "      <td>128 GB</td>\n",
       "      <td>0 GB</td>\n",
       "      <td>Windows</td>\n",
       "      <td>...</td>\n",
       "      <td>NaN</td>\n",
       "      <td>0</td>\n",
       "      <td>No</td>\n",
       "      <td>No</td>\n",
       "      <td>259.870</td>\n",
       "      <td>363.870</td>\n",
       "      <td>28</td>\n",
       "      <td>3.700</td>\n",
       "      <td>1153</td>\n",
       "      <td>159</td>\n",
       "    </tr>\n",
       "    <tr>\n",
       "      <th>3</th>\n",
       "      <td>Avita</td>\n",
       "      <td>PURA</td>\n",
       "      <td>AMD</td>\n",
       "      <td>APU Dual</td>\n",
       "      <td>10th</td>\n",
       "      <td>4 GB GB</td>\n",
       "      <td>DDR4</td>\n",
       "      <td>128 GB</td>\n",
       "      <td>0 GB</td>\n",
       "      <td>Windows</td>\n",
       "      <td>...</td>\n",
       "      <td>NaN</td>\n",
       "      <td>0</td>\n",
       "      <td>No</td>\n",
       "      <td>No</td>\n",
       "      <td>279.370</td>\n",
       "      <td>363.870</td>\n",
       "      <td>23</td>\n",
       "      <td>3.700</td>\n",
       "      <td>1153</td>\n",
       "      <td>159</td>\n",
       "    </tr>\n",
       "    <tr>\n",
       "      <th>4</th>\n",
       "      <td>Avita</td>\n",
       "      <td>PURA</td>\n",
       "      <td>AMD</td>\n",
       "      <td>APU Dual</td>\n",
       "      <td>10th</td>\n",
       "      <td>4 GB GB</td>\n",
       "      <td>DDR4</td>\n",
       "      <td>256 GB</td>\n",
       "      <td>0 GB</td>\n",
       "      <td>Windows</td>\n",
       "      <td>...</td>\n",
       "      <td>NaN</td>\n",
       "      <td>0</td>\n",
       "      <td>No</td>\n",
       "      <td>No</td>\n",
       "      <td>324.870</td>\n",
       "      <td>435.370</td>\n",
       "      <td>25</td>\n",
       "      <td>3.700</td>\n",
       "      <td>1657</td>\n",
       "      <td>234</td>\n",
       "    </tr>\n",
       "  </tbody>\n",
       "</table>\n",
       "<p>5 rows × 23 columns</p>\n",
       "</div>"
      ],
      "text/plain": [
       "    brand    model processor_brand     processor_name processor_gnrtn  \\\n",
       "0  Lenovo  A6-9225             AMD  A6-9225 Processor            10th   \n",
       "1  Lenovo  Ideapad             AMD           APU Dual            10th   \n",
       "2   Avita     PURA             AMD           APU Dual            10th   \n",
       "3   Avita     PURA             AMD           APU Dual            10th   \n",
       "4   Avita     PURA             AMD           APU Dual            10th   \n",
       "\n",
       "    ram_gb ram_type     ssd      hdd       os  ... display_size  warranty  \\\n",
       "0  4 GB GB     DDR4    0 GB  1024 GB  Windows  ...          NaN         0   \n",
       "1  4 GB GB     DDR4    0 GB   512 GB  Windows  ...          NaN         0   \n",
       "2  4 GB GB     DDR4  128 GB     0 GB  Windows  ...          NaN         0   \n",
       "3  4 GB GB     DDR4  128 GB     0 GB  Windows  ...          NaN         0   \n",
       "4  4 GB GB     DDR4  256 GB     0 GB  Windows  ...          NaN         0   \n",
       "\n",
       "  Touchscreen  msoffice  latest_price old_price discount  star_rating  \\\n",
       "0          No        No       324.870   426.270       23        3.700   \n",
       "1          No        No       254.670   277.225        8        3.600   \n",
       "2          No        No       259.870   363.870       28        3.700   \n",
       "3          No        No       279.370   363.870       23        3.700   \n",
       "4          No        No       324.870   435.370       25        3.700   \n",
       "\n",
       "   ratings  reviews  \n",
       "0       63       12  \n",
       "1     1894      256  \n",
       "2     1153      159  \n",
       "3     1153      159  \n",
       "4     1657      234  \n",
       "\n",
       "[5 rows x 23 columns]"
      ]
     },
     "execution_count": 16,
     "metadata": {},
     "output_type": "execute_result"
    }
   ],
   "source": [
    "import pandas as pd\n",
    "df = pd.read_csv('.\\data\\Cleaned_Laptop_data.csv')\n",
    "# IN 5 DÒNG ĐẦU DỮ LIỆU\n",
    "df.head()"
   ]
  },
  {
   "cell_type": "markdown",
   "id": "ff879916",
   "metadata": {
    "slideshow": {
     "slide_type": "subslide"
    }
   },
   "source": [
    "### 2.2 Tiền xử lý:"
   ]
  },
  {
   "cell_type": "code",
   "execution_count": 17,
   "id": "d17c99de",
   "metadata": {
    "scrolled": false,
    "slideshow": {
     "slide_type": "fragment"
    }
   },
   "outputs": [
    {
     "data": {
      "text/plain": [
       "<AxesSubplot:>"
      ]
     },
     "execution_count": 17,
     "metadata": {},
     "output_type": "execute_result"
    },
    {
     "data": {
      "image/png": "[encoded data removed]",
      "text/plain": [
       "<Figure size 1800x720 with 2 Axes>"
      ]
     },
     "metadata": {},
     "output_type": "display_data"
    }
   ],
   "source": [
    "# BIỄU DIỄN NHỮNG THUỘC TÍNH BỊ THIẾU\n",
    "import missingno as msno\n",
    "msno.matrix(df)"
   ]
  },
  {
   "cell_type": "markdown",
   "id": "523250bf",
   "metadata": {
    "slideshow": {
     "slide_type": "subslide"
    }
   },
   "source": [
    "**Những cột bị thiếu dữ liệu:**\n",
    "- model ( dòng máy)\n",
    "- processor_gnrtn ( thế hệ vi xử lý)\n",
    "- display_size ( kích thước màn hình)\n",
    "\n",
    "**Xử lí dữ liệu bị thiếu:**\n",
    "- Model: “Unknow”\n",
    "- processor_gnrtn: 11th\n",
    "- display_size: 15.6"
   ]
  },
  {
   "cell_type": "markdown",
   "id": "3f134654",
   "metadata": {
    "slideshow": {
     "slide_type": "slide"
    }
   },
   "source": [
    "## Phần 3 - Trực quan hóa dữ liệu\n"
   ]
  },
  {
   "cell_type": "markdown",
   "id": "18f24f00",
   "metadata": {
    "slideshow": {
     "slide_type": "fragment"
    }
   },
   "source": [
    "### 3.1 Thống kê Thương hiệu:\n",
    "![thuonghieu](https://scontent.fsgn2-6.fna.fbcdn.net/v/t1.15752-9/282672722_1475722452843904_8253311341104898062_n.png?_nc_cat=110&ccb=1-7&_nc_sid=ae9488&_nc_ohc=bapelPNT9mAAX_3bdPu&tn=h4Y5nwqZHD89sY9C&_nc_ht=scontent.fsgn2-6.fna&oh=03_AVLH_NvPbFuR1v3dxu7f9dW1fJgyssRm7giQPfbugS5T7A&oe=62CAF017)"
   ]
  },
  {
   "cell_type": "markdown",
   "id": "15f82ad6",
   "metadata": {
    "slideshow": {
     "slide_type": "subslide"
    }
   },
   "source": [
    "### 3.2 Thống kê dòng máy:\n",
    "![dongmay](https://scontent.fsgn2-3.fna.fbcdn.net/v/t1.15752-9/280478077_429281892348436_863000874952818378_n.png?_nc_cat=108&ccb=1-7&_nc_sid=ae9488&_nc_ohc=HzRDq3ZGSrsAX-fn15C&_nc_ht=scontent.fsgn2-3.fna&oh=03_AVLRkGdJu02Vn0Q7P8Bis0hQrTqW1hEQU8DKsLHO0wAEnQ&oe=62C8CFEE)"
   ]
  },
  {
   "cell_type": "markdown",
   "id": "12591964",
   "metadata": {
    "slideshow": {
     "slide_type": "subslide"
    }
   },
   "source": [
    "### 3.3 Thống kê vi xử lý:\n",
    "![thuonghieu](data:image/png;base64,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)"
   ]
  },
  {
   "cell_type": "markdown",
   "id": "f21bb8b0",
   "metadata": {
    "slideshow": {
     "slide_type": "subslide"
    }
   },
   "source": [
    "![thuonghieu](https://scontent.fsgn2-6.fna.fbcdn.net/v/t1.15752-9/282235416_408057464578304_7778493016498276054_n.png?_nc_cat=100&ccb=1-7&_nc_sid=ae9488&_nc_ohc=JSsVsMyeaFwAX8P67QM&_nc_ht=scontent.fsgn2-6.fna&oh=03_AVLLL7wDwWREVXlrxFXdkfky9vg_inzmtPVnulRNieGf6A&oe=62CAF64D)"
   ]
  },
  {
   "cell_type": "markdown",
   "id": "7df17f5c",
   "metadata": {
    "slideshow": {
     "slide_type": "subslide"
    }
   },
   "source": [
    "### 3.4 Thống kê về RAM:\n",
    "![thuonghieu](https://scontent.fsgn2-5.fna.fbcdn.net/v/t1.15752-9/281415679_1094685421257737_5776154087543146473_n.png?_nc_cat=102&ccb=1-7&_nc_sid=ae9488&_nc_ohc=Vl6axt1-6DUAX8XdDdM&_nc_ht=scontent.fsgn2-5.fna&oh=03_AVIUHPo0t8aZ-ueGLU_AfeA8lrjD9vYjmxXdmvnfLocszA&oe=62CA9182)"
   ]
  },
  {
   "cell_type": "markdown",
   "id": "a333e0b2",
   "metadata": {
    "slideshow": {
     "slide_type": "subslide"
    }
   },
   "source": [
    "### 3.5 Thống kê về ổ đĩa cứng:\n",
    "![thuonghieu](https://scontent.fsgn2-4.fna.fbcdn.net/v/t1.15752-9/286473326_729163514801538_5924143027279422074_n.png?_nc_cat=101&ccb=1-7&_nc_sid=ae9488&_nc_ohc=iT2zbJPY5hgAX9t_pGV&_nc_ht=scontent.fsgn2-4.fna&oh=03_AVKtb51PunGfdlMPQ_-_IfYcBdzkw3of6vNfS937dd6Ycw&oe=62C9560F)"
   ]
  },
  {
   "cell_type": "markdown",
   "id": "38da3508",
   "metadata": {
    "slideshow": {
     "slide_type": "slide"
    }
   },
   "source": [
    "## Phần 4 - Thực nghiệm, kết quả, và thảo luận"
   ]
  },
  {
   "cell_type": "markdown",
   "id": "570b5eed",
   "metadata": {
    "slideshow": {
     "slide_type": "fragment"
    }
   },
   "source": [
    "### Kiểm định thống kê\n",
    "Đặt giả thuyết liệu có sự khác nhau về giá giữa các nhóm độc lập. \n",
    "- H0: Giá bằng nhau giữa các nhóm độc lập, \n",
    "- H1: Giá khác nhau giữa các nhóm độc lập.\n",
    "\n",
    "Thực hiện kiểm định giả thuyết với độ tin cậy 95%.\n",
    "- Với các biến có giá trị p-value < mức ý nghĩa (0.05), phủ nhận H0 và kết luận biến có ảnh hưởng tới giá cuối cùng.\n",
    "- Với các biến có giá trị p-value > mức ý nghĩa (0.05), chấp nhận H0 và kết luận biến không ảnh hưởng tới mức giá cuối cùng."
   ]
  },
  {
   "cell_type": "markdown",
   "id": "7fa92ad4",
   "metadata": {
    "slideshow": {
     "slide_type": "subslide"
    }
   },
   "source": [
    "### 4.1 Hệ điều hành:\n",
    "![thuonghieu](https://scontent.fsgn4-1.fna.fbcdn.net/v/t1.15752-9/281872004_330093749142162_3105197428303246505_n.png?_nc_cat=101&ccb=1-7&_nc_sid=ae9488&_nc_ohc=BbNTZGdBbhIAX___U2F&_nc_ht=scontent.fsgn4-1.fna&oh=03_AVLd_c4zJMAtRuvKZV0eHXp5ABr84azPBzkvTA5l1X3nwQ&oe=62CCEE8D)\n",
    "\n",
    " |  os     |     count     |        mean (USD)      |      std | \n",
    "   | --- | --- | --- | --- |                                              \n",
    " | DOS     |    36.0  |  1638.545 |  1016.539 | \n",
    " | Mac     |    28.0  |  1972.202  |  713.794 | \n",
    " | Windows  |  832.0  |   931.067  |  530.290 | "
   ]
  },
  {
   "cell_type": "markdown",
   "id": "e6fc18cf",
   "metadata": {
    "slideshow": {
     "slide_type": "subslide"
    }
   },
   "source": [
    "### 4.2 Dung lượng card đồ hoạ:\n",
    "![thuonghieu](https://scontent.fsgn13-1.fna.fbcdn.net/v/t1.15752-9/286003600_762975421385991_7329089836649335022_n.png?_nc_cat=109&ccb=1-7&_nc_sid=ae9488&_nc_ohc=vsOXrJ4xYYAAX-YFI-Z&_nc_ht=scontent.fsgn13-1.fna&oh=03_AVKyq_ly-jMzM2uWe1e_EVCJtQ8PVH65axXi6Lq4VDG4BQ&oe=62CD25DA)\n",
    "\n",
    "| graphic_card_gb |  count    |  mean (USD)  |   std| \n",
    "| --- | --- | --- | --- |                      \n",
    "| 0           |     631.000 |  849.326 |  487.437| \n",
    "| 2         |        69.000 |  1005.079 |  366.039| \n",
    "| 4         |       138.000 | 1163.368 | 436.149 | \n",
    "| 6         |        40.000 | 1942.713 | 943.137 | \n",
    "| 8         |        18.000 | 2518.265 | 910.916 | "
   ]
  },
  {
   "cell_type": "markdown",
   "id": "c8f7507c",
   "metadata": {
    "slideshow": {
     "slide_type": "subslide"
    }
   },
   "source": [
    "### 4.3 Cân nặng:\n",
    "![thuonghieu](https://scontent.fsgn8-2.fna.fbcdn.net/v/t1.15752-9/283302047_811995543096127_9170360250185452667_n.png?_nc_cat=100&ccb=1-7&_nc_sid=ae9488&_nc_ohc=rGKY7PKeZSAAX_pw95a&_nc_ht=scontent.fsgn8-2.fna&oh=03_AVKu4VN1kcLHQM_qAFZpyJb5r3xAT2lQ5GCNnLovpu3LbA&oe=62CDC8C2)\n",
    "\n",
    "| weight     |       count      |     mean (USD)     |       std | \n",
    "         | --- | --- | --- | --- |                              \n",
    "| Casual   |    566.0 |  1109.818 |  682.299 | \n",
    "| Gaming    |    39.0 |  964.783 |  212.176 | \n",
    "| ThinNlight |  291.0 |  766.576 |  377.096 | "
   ]
  },
  {
   "cell_type": "markdown",
   "id": "a8c2dea0",
   "metadata": {
    "slideshow": {
     "slide_type": "subslide"
    }
   },
   "source": [
    "### 4.4 Kích thước màn hình:\n",
    "![thuonghieu](https://scontent-hkg4-2.xx.fbcdn.net/v/t1.15752-9/285083323_433215438815716_5159604064040461482_n.png?_nc_cat=110&ccb=1-7&_nc_sid=ae9488&_nc_ohc=Xf6zQqBvJ-kAX-k4LnA&_nc_ht=scontent-hkg4-2.xx&oh=03_AVIv8JhPl_qdlB2zPfJbiUNwmSerF_Ntt0DARVyZTJlnoQ&oe=62CD1F16)\n",
    "\n",
    "| display_size   |   count |     mean (USD)   |    std\n",
    "| --- | --- | --- | --- |             \n",
    "| 12.200     |     2.000 |  623.870  |  91.924 | \n",
    "| 13.000     |     4.000 |  1660.620 | 792.209 | \n",
    "| 13.300     |    40.000 |  1253.278 | 342.811 | \n",
    "| 13.400     |     1.000 |  1494.870 |    NaN | \n",
    "| 14.000     |   131.000 |  748.053  | 239.276 | \n",
    "| 14.100     |     6.000 |  532.025  |  84.252 | \n",
    "| 14.200     |     3.000 |  2760.203 | 307.728 | \n",
    "| 14.900     |    1.000  |  725.270  |    NaN | \n",
    "| 14.960     |    7.000  |  529.899  | 38.635 | \n",
    "| 15.000     |   3.000   |  600.037  | 155.774 | \n",
    "| 15.600     |  550.000  |  887.185  | 593.780 | \n",
    "| 16.000     |  135.000  |  1521.928 | 495.255 | \n",
    "| 16.100     |    1.000  |  1780.870 |    NaN | \n",
    "| 16.200     |    3.000  |  3379.870 | 574.947 | \n",
    "| 17.300     |   9.000   |  922.884  | 120.919 |"
   ]
  },
  {
   "cell_type": "markdown",
   "id": "b3469554",
   "metadata": {
    "slideshow": {
     "slide_type": "subslide"
    }
   },
   "source": [
    "### 4.5 Màn hình cảm ứng:\n",
    "![thuonghieu](https://scontent.fsgn8-2.fna.fbcdn.net/v/t1.15752-9/284249996_3202926826621692_4690140758340693335_n.png?_nc_cat=105&ccb=1-7&_nc_sid=ae9488&_nc_ohc=JMzy33OA65sAX-ZTQra&_nc_ht=scontent.fsgn8-2.fna&oh=03_AVJorthRUihZKDCEIESqrG3hZ-PHHpNNImgSY9Zm4W9tqQ&oe=62CC428E)\n",
    "\n",
    "| Touchscreen       |       count    |       mean (USD)   |         std | \n",
    "| --- | --- | --- | --- |                                   \n",
    "| No    |        793.0 |  954.524 |  605.247| \n",
    "| Yes     |      103.0 |  1280.772 |  531.519 | "
   ]
  },
  {
   "cell_type": "markdown",
   "id": "e2be3622",
   "metadata": {
    "slideshow": {
     "slide_type": "subslide"
    }
   },
   "source": [
    "### 4.6 Hãng sản xuất:\n",
    "![thuonghieu](https://scontent-hkg4-2.xx.fbcdn.net/v/t1.15752-9/281343893_783892449447047_7785394133959564897_n.png?_nc_cat=110&ccb=1-7&_nc_sid=ae9488&_nc_ohc=QhcdhqarN8oAX8UHshV&_nc_ht=scontent-hkg4-2.xx&oh=03_AVJR-nSZ5otc87F15GQFCmn4uLji0hcje8LfFkOqunZ0mg&oe=62D021D9)\n",
    "\n",
    "| brand     |         count |     mean (USD)  |    std| \n",
    "| --- | --- | --- | --- |                    \n",
    "| ALIENWARE |   4.000 |  3345.745 |  855.604| \n",
    "| APPLE     |  28.000 | 1972.202 | 713.794| \n",
    "| ASUS      | 254.000 | 1029.882 | 671.269| \n",
    "| Avita     |  18.000 |  724.868 | 296.798| \n",
    "| DELL      | 154.000 |  806.389 | 307.666| \n",
    "| HP        | 142.000 |  933.170 | 481.531| \n",
    "| Infinix   |   4.000 |  531.245 | 135.555| \n",
    "| LG        |   5.000 |  990.470 | 111.224| \n",
    "| Lenovo    | 148.000 |  935.023 | 552.777| \n",
    "| MICROSOFT |   3.000 | 1266.109  | 60.741| \n",
    "| MSI       |  52.000 | 1267.158 | 725.605| \n",
    "| Mi        |   2.000 |  744.120 |  41.366| \n",
    "| Nokia     |   4.000 |  658.970  | 59.042| \n",
    "| RedmiBook |   3.000 |  567.537  | 65.432| \n",
    "| SAMSUNG   |   1.000 |  506.870  |    NaN| \n",
    "| Smartron  |   3.000 |  645.537  | 75.056| \n",
    "| Vaio      |   5.000 |  723.970  | 70.644| \n",
    "| acer      |  58.000 |  938.916 | 441.710| \n",
    "| iball     |   1.000 |  181.870  |    NaN| \n",
    "| lenovo    |   3.000 | 1507.905 | 659.991| \n",
    "| realme    |   4.000 |  679.178  | 83.183| "
   ]
  },
  {
   "cell_type": "markdown",
   "id": "664f2320",
   "metadata": {
    "slideshow": {
     "slide_type": "subslide"
    }
   },
   "source": [
    "### 4.7 Thế hệ bộ xử lí:\n",
    "![thuonghieu](https://scontent.fsgn8-2.fna.fbcdn.net/v/t1.15752-9/287034590_333665388903273_8176234667698941116_n.png?_nc_cat=105&ccb=1-7&_nc_sid=ae9488&_nc_ohc=W3VWr-VTivoAX_VdwzJ&_nc_ht=scontent.fsgn8-2.fna&oh=03_AVL5aqcJiIky2sVQBwovBBjPaotLAi2Obg2Lv7gHLm8xmw&oe=62CEA6BB)\n",
    "\n",
    "| processor_gnrtn |   count |    mean (USD)  |    std |\n",
    "| --- | --- | --- | --- |                              \n",
    "| 10th  |          246.000 | 1150.804 |  819.481 |\n",
    "| 11th   |         585.000 |  911.265 |  458.100 |\n",
    "| 12th   |           3.000 | 3119.870 | 1133.314 |\n",
    "| 4th    |           1.000 |  682.370 |      NaN |\n",
    "| 7th    |         12.000 |  718.832 |  184.448 |\n",
    "| 8th     |         43.000 | 1096.424 |  470.956 |\n",
    "| 9th     |          6.000 | 1142.592 |  906.346 |"
   ]
  },
  {
   "cell_type": "markdown",
   "id": "33c56646",
   "metadata": {
    "slideshow": {
     "slide_type": "subslide"
    }
   },
   "source": [
    "### 4.8 Dung lượng RAM:\n",
    "![thuonghieu](https://scontent.fsgn13-2.fna.fbcdn.net/v/t1.15752-9/287111549_386464246835303_4588019479339511713_n.png?_nc_cat=106&ccb=1-7&_nc_sid=ae9488&_nc_ohc=VRRZMIA1MssAX_M-PZ-&_nc_ht=scontent.fsgn13-2.fna&oh=03_AVLRO8UGg9HfqqMBl7c3cpV07RCkJBfRAVN5rvMT1Dthsg&oe=62CF208C)\n",
    "\n",
    "| ram_gb  |   count  |          mean (USD)  |           std   |  \n",
    "| --- | --- | --- | --- |\n",
    "| 16 GB GB |  180.0 |  1546.418 |   749.426 | \n",
    "| 32 GB GB |    3.0 |  2196.476 |  1840.128 | \n",
    "| 4 GB GB  |  259.0 |   773.084 |   475.132 | \n",
    "| 8 GB GB  |  454.0  |  889.172  |  436.232 | "
   ]
  },
  {
   "cell_type": "markdown",
   "id": "b9464691",
   "metadata": {
    "slideshow": {
     "slide_type": "subslide"
    }
   },
   "source": [
    "### 4.9 Dung lượng SSD:\n",
    "![thuonghieu](https://scontent.fsgn13-1.fna.fbcdn.net/v/t1.15752-9/282262130_417762020232303_1144190609955541225_n.png?_nc_cat=104&ccb=1-7&_nc_sid=ae9488&_nc_ohc=CjiJmuiI4GsAX_A4cp9&_nc_ht=scontent.fsgn13-1.fna&oh=03_AVKiA2l4C8Iz4Wfg4XhMLdfGFHh548Fqr29ZvEaRbG0ZNg&oe=62CCB7B1)\n",
    "\n",
    "|ssd       |    count  |   mean (USD)   |  std |\n",
    "| --- | --- | --- | --- |                    \n",
    "|0 GB    |151.000 | 804.454 | 704.288|\n",
    "|1024 GB |111.000 |1802.738 |682.903|\n",
    "|128 GB  | 12.000 | 921.182 |446.992|\n",
    "|2048 GB |  2.000 |2560.870 |680.237|\n",
    "|256 GB  |201.000 | 695.680 |271.488|\n",
    "|3072 GB |  1.000 |5745.870 |    NaN|\n",
    "|32 GB   |  1.000 |  349.687|     NaN|\n",
    "|512 GB  |417.000 | 971.649 |384.358|"
   ]
  },
  {
   "cell_type": "markdown",
   "id": "52b9d28a",
   "metadata": {
    "slideshow": {
     "slide_type": "subslide"
    }
   },
   "source": [
    "### 4.10 Dung lượng HDD:\n",
    "![thuonghieu](https://scontent.fsgn8-2.fna.fbcdn.net/v/t1.15752-9/284354867_458581426148476_6174224285986011714_n.png?_nc_cat=100&ccb=1-7&_nc_sid=ae9488&_nc_ohc=1jsI2LXp6u4AX-4T7Ll&_nc_ht=scontent.fsgn8-2.fna&oh=03_AVKyTPku0mMj0zapVNMTf1C2ESNA7lh0ERbD3qPQvGcgTA&oe=62CFB2B7)\n",
    "\n",
    "| hdd |       count |         mean (USD)     |      std      |    \n",
    "| --- | --- | --- | --- |\n",
    "| 0 GB   |  666.0 | 1051.577 | 597.495 |\n",
    "| 1024 GB | 164.0 | 690.629 | 254.652 |\n",
    "| 2048 GB  |  1.0 | 810.121 |          NaN |\n",
    "|512 GB   | 65.0 | 1145.137 | 983.106 |"
   ]
  },
  {
   "cell_type": "markdown",
   "id": "2100c1a7",
   "metadata": {
    "slideshow": {
     "slide_type": "slide"
    }
   },
   "source": [
    "## Phần 5 - Dự đoán giá laptop"
   ]
  },
  {
   "cell_type": "code",
   "execution_count": 18,
   "id": "957ba116",
   "metadata": {
    "slideshow": {
     "slide_type": "skip"
    }
   },
   "outputs": [],
   "source": [
    "import numpy as np # linear algebra\n",
    "import pandas as pd # data processing, CSV file I/O (e.g. pd.read_csv)\n",
    "%matplotlib inline\n",
    "import seaborn as sns\n",
    "color = sns.color_palette()\n",
    "sns.set_style('darkgrid')\n",
    "import warnings\n",
    "def ignore_warn(*args, **kwargs):\n",
    "    pass\n",
    "warnings.warn = ignore_warn #ignore annoying warning (from sklearn and seaborn)\n",
    "\n",
    "from scipy import stats\n",
    "from scipy.stats import norm, skew #for some statistics\n",
    "\n",
    "\n",
    "pd.set_option('display.float_format', lambda x: '{:.3f}'.format(x)) #Limiting floats output to 3 decimal points\n",
    "\n",
    "\n",
    "from subprocess import check_output\n",
    "\n",
    "df = pd.read_csv('.\\data\\Cleaned_Laptop_data.csv',encoding='latin-1')\n",
    "df = df.replace('Missing', float(\"NaN\"))\n",
    "for i in df.columns:\n",
    "    df[i]=df[i].fillna(df[i].mode()[0])\n",
    "from sklearn.preprocessing import LabelEncoder\n",
    "le = LabelEncoder()\n",
    "df['ssd'] = df['ssd'].str.replace(' GB', '').astype(int)\n",
    "df['ram_gb'] = df['ram_gb'].str.replace(' GB GB', '').astype(int)\n",
    "df['hdd'] = df['hdd'].str.replace(' GB', '').astype(int)\n",
    "df['processor_gnrtn'] = df['processor_gnrtn'].str.replace('th', '').astype(int)\n",
    "df['display_size'] = df['display_size'].astype(float)\n",
    "df['Touchscreen'] = df['Touchscreen'].map({'No':0, 'Yes':1})\n",
    "cdf = df[['ram_gb','ssd','hdd','processor_gnrtn','graphic_card_gb','display_size', 'warranty', 'Touchscreen', 'star_rating', 'ratings', 'reviews', 'latest_price']]\n",
    "\n",
    "from statsmodels.stats.outliers_influence import variance_inflation_factor\n",
    "  \n",
    "\n",
    "vif_df = pd.DataFrame()\n",
    "vif_df[\"feature\"] = cdf.columns\n",
    "vif_df[\"VIF\"] = [variance_inflation_factor(cdf.values, i)\n",
    "                          for i in range(len(cdf.columns))]"
   ]
  },
  {
   "cell_type": "markdown",
   "id": "25449d56",
   "metadata": {
    "slideshow": {
     "slide_type": "fragment"
    }
   },
   "source": [
    "x là các biến độc lập , y là latest_price.\n",
    "Hàm train_test_split là để chọn 80% để train, 20% để test (test_size) (Không chọn ngẫu nhiên, random_state = 0)"
   ]
  },
  {
   "cell_type": "code",
   "execution_count": 19,
   "id": "164ef077",
   "metadata": {
    "slideshow": {
     "slide_type": "fragment"
    }
   },
   "outputs": [],
   "source": [
    "from sklearn.model_selection import train_test_split\n",
    "x = cdf.drop(['latest_price'], axis = 1)\n",
    "y = cdf['latest_price']\n",
    "x_train, x_test, y_train, y_test = train_test_split(x, y, test_size = 0.2, random_state = 0)"
   ]
  },
  {
   "cell_type": "markdown",
   "id": "32ac53ca",
   "metadata": {
    "slideshow": {
     "slide_type": "subslide"
    }
   },
   "source": [
    "### Xây dựng mô hình hồi quy tuyến tính.\n",
    "\n",
    "Dựa vào bảng dưới ta có thể nhìn thấy các thông số của mô hình như AIC, BIC, R-squared, p-value .."
   ]
  },
  {
   "cell_type": "code",
   "execution_count": 20,
   "id": "6cfd3bc9",
   "metadata": {
    "slideshow": {
     "slide_type": "fragment"
    }
   },
   "outputs": [
    {
     "data": {
      "text/html": [
       "<table class=\"simpletable\">\n",
       "<caption>OLS Regression Results</caption>\n",
       "<tr>\n",
       "  <th>Dep. Variable:</th>      <td>latest_price</td>   <th>  R-squared (uncentered):</th>      <td>   0.872</td> \n",
       "</tr>\n",
       "<tr>\n",
       "  <th>Model:</th>                   <td>OLS</td>       <th>  Adj. R-squared (uncentered):</th> <td>   0.870</td> \n",
       "</tr>\n",
       "<tr>\n",
       "  <th>Method:</th>             <td>Least Squares</td>  <th>  F-statistic:       </th>          <td>   436.3</td> \n",
       "</tr>\n",
       "<tr>\n",
       "  <th>Date:</th>             <td>Wed, 15 Jun 2022</td> <th>  Prob (F-statistic):</th>          <td>7.46e-306</td>\n",
       "</tr>\n",
       "<tr>\n",
       "  <th>Time:</th>                 <td>15:15:04</td>     <th>  Log-Likelihood:    </th>          <td> -5336.3</td> \n",
       "</tr>\n",
       "<tr>\n",
       "  <th>No. Observations:</th>      <td>   716</td>      <th>  AIC:               </th>          <td>1.069e+04</td>\n",
       "</tr>\n",
       "<tr>\n",
       "  <th>Df Residuals:</th>          <td>   705</td>      <th>  BIC:               </th>          <td>1.074e+04</td>\n",
       "</tr>\n",
       "<tr>\n",
       "  <th>Df Model:</th>              <td>    11</td>      <th>                     </th>              <td> </td>    \n",
       "</tr>\n",
       "<tr>\n",
       "  <th>Covariance Type:</th>      <td>nonrobust</td>    <th>                     </th>              <td> </td>    \n",
       "</tr>\n",
       "</table>\n",
       "<table class=\"simpletable\">\n",
       "<tr>\n",
       "         <td></td>            <th>coef</th>     <th>std err</th>      <th>t</th>      <th>P>|t|</th>  <th>[0.025</th>    <th>0.975]</th>  \n",
       "</tr>\n",
       "<tr>\n",
       "  <th>ram_gb</th>          <td>   34.0602</td> <td>    4.012</td> <td>    8.491</td> <td> 0.000</td> <td>   26.184</td> <td>   41.936</td>\n",
       "</tr>\n",
       "<tr>\n",
       "  <th>ssd</th>             <td>    0.7758</td> <td>    0.071</td> <td>   10.861</td> <td> 0.000</td> <td>    0.636</td> <td>    0.916</td>\n",
       "</tr>\n",
       "<tr>\n",
       "  <th>hdd</th>             <td>    0.1278</td> <td>    0.050</td> <td>    2.572</td> <td> 0.010</td> <td>    0.030</td> <td>    0.225</td>\n",
       "</tr>\n",
       "<tr>\n",
       "  <th>processor_gnrtn</th> <td>  -93.0450</td> <td>   17.212</td> <td>   -5.406</td> <td> 0.000</td> <td> -126.838</td> <td>  -59.252</td>\n",
       "</tr>\n",
       "<tr>\n",
       "  <th>graphic_card_gb</th> <td>   90.7803</td> <td>    8.448</td> <td>   10.746</td> <td> 0.000</td> <td>   74.194</td> <td>  107.367</td>\n",
       "</tr>\n",
       "<tr>\n",
       "  <th>display_size</th>    <td>   82.1740</td> <td>   11.864</td> <td>    6.926</td> <td> 0.000</td> <td>   58.881</td> <td>  105.467</td>\n",
       "</tr>\n",
       "<tr>\n",
       "  <th>warranty</th>        <td>  -37.6434</td> <td>   28.124</td> <td>   -1.338</td> <td> 0.181</td> <td>  -92.860</td> <td>   17.573</td>\n",
       "</tr>\n",
       "<tr>\n",
       "  <th>Touchscreen</th>     <td>  301.3702</td> <td>   51.040</td> <td>    5.905</td> <td> 0.000</td> <td>  201.162</td> <td>  401.578</td>\n",
       "</tr>\n",
       "<tr>\n",
       "  <th>star_rating</th>     <td>  -19.2139</td> <td>    8.339</td> <td>   -2.304</td> <td> 0.022</td> <td>  -35.587</td> <td>   -2.841</td>\n",
       "</tr>\n",
       "<tr>\n",
       "  <th>ratings</th>         <td>    0.0937</td> <td>    0.073</td> <td>    1.285</td> <td> 0.199</td> <td>   -0.049</td> <td>    0.237</td>\n",
       "</tr>\n",
       "<tr>\n",
       "  <th>reviews</th>         <td>   -0.8240</td> <td>    0.602</td> <td>   -1.368</td> <td> 0.172</td> <td>   -2.007</td> <td>    0.359</td>\n",
       "</tr>\n",
       "</table>\n",
       "<table class=\"simpletable\">\n",
       "<tr>\n",
       "  <th>Omnibus:</th>       <td>435.033</td> <th>  Durbin-Watson:     </th> <td>   2.078</td>\n",
       "</tr>\n",
       "<tr>\n",
       "  <th>Prob(Omnibus):</th> <td> 0.000</td>  <th>  Jarque-Bera (JB):  </th> <td>4558.745</td>\n",
       "</tr>\n",
       "<tr>\n",
       "  <th>Skew:</th>          <td> 2.593</td>  <th>  Prob(JB):          </th> <td>    0.00</td>\n",
       "</tr>\n",
       "<tr>\n",
       "  <th>Kurtosis:</th>      <td>14.222</td>  <th>  Cond. No.          </th> <td>4.08e+03</td>\n",
       "</tr>\n",
       "</table><br/><br/>Notes:<br/>[1] R² is computed without centering (uncentered) since the model does not contain a constant.<br/>[2] Standard Errors assume that the covariance matrix of the errors is correctly specified.<br/>[3] The condition number is large, 4.08e+03. This might indicate that there are<br/>strong multicollinearity or other numerical problems."
      ],
      "text/plain": [
       "<class 'statsmodels.iolib.summary.Summary'>\n",
       "\"\"\"\n",
       "                                 OLS Regression Results                                \n",
       "=======================================================================================\n",
       "Dep. Variable:           latest_price   R-squared (uncentered):                   0.872\n",
       "Model:                            OLS   Adj. R-squared (uncentered):              0.870\n",
       "Method:                 Least Squares   F-statistic:                              436.3\n",
       "Date:                Wed, 15 Jun 2022   Prob (F-statistic):                   7.46e-306\n",
       "Time:                        15:15:04   Log-Likelihood:                         -5336.3\n",
       "No. Observations:                 716   AIC:                                  1.069e+04\n",
       "Df Residuals:                     705   BIC:                                  1.074e+04\n",
       "Df Model:                          11                                                  \n",
       "Covariance Type:            nonrobust                                                  \n",
       "===================================================================================\n",
       "                      coef    std err          t      P>|t|      [0.025      0.975]\n",
       "-----------------------------------------------------------------------------------\n",
       "ram_gb             34.0602      4.012      8.491      0.000      26.184      41.936\n",
       "ssd                 0.7758      0.071     10.861      0.000       0.636       0.916\n",
       "hdd                 0.1278      0.050      2.572      0.010       0.030       0.225\n",
       "processor_gnrtn   -93.0450     17.212     -5.406      0.000    -126.838     -59.252\n",
       "graphic_card_gb    90.7803      8.448     10.746      0.000      74.194     107.367\n",
       "display_size       82.1740     11.864      6.926      0.000      58.881     105.467\n",
       "warranty          -37.6434     28.124     -1.338      0.181     -92.860      17.573\n",
       "Touchscreen       301.3702     51.040      5.905      0.000     201.162     401.578\n",
       "star_rating       -19.2139      8.339     -2.304      0.022     -35.587      -2.841\n",
       "ratings             0.0937      0.073      1.285      0.199      -0.049       0.237\n",
       "reviews            -0.8240      0.602     -1.368      0.172      -2.007       0.359\n",
       "==============================================================================\n",
       "Omnibus:                      435.033   Durbin-Watson:                   2.078\n",
       "Prob(Omnibus):                  0.000   Jarque-Bera (JB):             4558.745\n",
       "Skew:                           2.593   Prob(JB):                         0.00\n",
       "Kurtosis:                      14.222   Cond. No.                     4.08e+03\n",
       "==============================================================================\n",
       "\n",
       "Notes:\n",
       "[1] R² is computed without centering (uncentered) since the model does not contain a constant.\n",
       "[2] Standard Errors assume that the covariance matrix of the errors is correctly specified.\n",
       "[3] The condition number is large, 4.08e+03. This might indicate that there are\n",
       "strong multicollinearity or other numerical problems.\n",
       "\"\"\""
      ]
     },
     "execution_count": 20,
     "metadata": {},
     "output_type": "execute_result"
    }
   ],
   "source": [
    "import statsmodels.regression.linear_model as sm\n",
    "ols = sm.OLS(endog = y_train, exog = x_train).fit()\n",
    "ols.summary()"
   ]
  },
  {
   "cell_type": "markdown",
   "id": "4ff5e0f1",
   "metadata": {
    "slideshow": {
     "slide_type": "subslide"
    }
   },
   "source": [
    "#### Phương trình hồi quy tuyến tính\n",
    "![thuonghieu](https://scontent.fsgn2-3.fna.fbcdn.net/v/t1.15752-9/285672285_712827786644315_6125256393792219140_n.png?_nc_cat=106&ccb=1-7&_nc_sid=ae9488&_nc_ohc=vScFVKhzd04AX-ziNER&_nc_ht=scontent.fsgn2-3.fna&oh=03_AVJyIkzpSayHKxdWFmekk97G5dZ71m5bcusbEYnoEEoZzQ&oe=62CDCE3C)\n",
    "\n",
    "Ta loại những biến có p-value > 0,05 bằng phương pháp Backward Elimination cho đến khi đạt được mô hình tốt nhất."
   ]
  },
  {
   "cell_type": "code",
   "execution_count": 21,
   "id": "fd34147b",
   "metadata": {
    "slideshow": {
     "slide_type": "skip"
    }
   },
   "outputs": [],
   "source": [
    "x_train = x_train.drop(['ratings'], axis = 1)\n",
    "ols = sm.OLS(endog = y_train, exog = x_train).fit()\n",
    "\n",
    "x_train = x_train.drop(['reviews'], axis = 1)\n",
    "ols = sm.OLS(endog = y_train, exog = x_train).fit()\n",
    "\n",
    "x_train = x_train.drop(['warranty'], axis = 1)\n",
    "ols = sm.OLS(endog = y_train, exog = x_train).fit()\n",
    "\n",
    "x_test = x_test.drop((['warranty', 'ratings', 'reviews']), axis = 1)\n",
    "y_pred = ols.predict(x_test)"
   ]
  },
  {
   "cell_type": "code",
   "execution_count": 22,
   "id": "8114d477",
   "metadata": {
    "slideshow": {
     "slide_type": "subslide"
    }
   },
   "outputs": [
    {
     "data": {
      "text/html": [
       "<table class=\"simpletable\">\n",
       "<caption>OLS Regression Results</caption>\n",
       "<tr>\n",
       "  <th>Dep. Variable:</th>      <td>latest_price</td>   <th>  R-squared (uncentered):</th>      <td>   0.871</td> \n",
       "</tr>\n",
       "<tr>\n",
       "  <th>Model:</th>                   <td>OLS</td>       <th>  Adj. R-squared (uncentered):</th> <td>   0.870</td> \n",
       "</tr>\n",
       "<tr>\n",
       "  <th>Method:</th>             <td>Least Squares</td>  <th>  F-statistic:       </th>          <td>   599.0</td> \n",
       "</tr>\n",
       "<tr>\n",
       "  <th>Date:</th>             <td>Wed, 15 Jun 2022</td> <th>  Prob (F-statistic):</th>          <td>3.39e-309</td>\n",
       "</tr>\n",
       "<tr>\n",
       "  <th>Time:</th>                 <td>15:15:05</td>     <th>  Log-Likelihood:    </th>          <td> -5338.1</td> \n",
       "</tr>\n",
       "<tr>\n",
       "  <th>No. Observations:</th>      <td>   716</td>      <th>  AIC:               </th>          <td>1.069e+04</td>\n",
       "</tr>\n",
       "<tr>\n",
       "  <th>Df Residuals:</th>          <td>   708</td>      <th>  BIC:               </th>          <td>1.073e+04</td>\n",
       "</tr>\n",
       "<tr>\n",
       "  <th>Df Model:</th>              <td>     8</td>      <th>                     </th>              <td> </td>    \n",
       "</tr>\n",
       "<tr>\n",
       "  <th>Covariance Type:</th>      <td>nonrobust</td>    <th>                     </th>              <td> </td>    \n",
       "</tr>\n",
       "</table>\n",
       "<table class=\"simpletable\">\n",
       "<tr>\n",
       "         <td></td>            <th>coef</th>     <th>std err</th>      <th>t</th>      <th>P>|t|</th>  <th>[0.025</th>    <th>0.975]</th>  \n",
       "</tr>\n",
       "<tr>\n",
       "  <th>ram_gb</th>          <td>   34.0976</td> <td>    4.000</td> <td>    8.525</td> <td> 0.000</td> <td>   26.245</td> <td>   41.950</td>\n",
       "</tr>\n",
       "<tr>\n",
       "  <th>ssd</th>             <td>    0.7666</td> <td>    0.070</td> <td>   10.952</td> <td> 0.000</td> <td>    0.629</td> <td>    0.904</td>\n",
       "</tr>\n",
       "<tr>\n",
       "  <th>hdd</th>             <td>    0.1281</td> <td>    0.050</td> <td>    2.578</td> <td> 0.010</td> <td>    0.031</td> <td>    0.226</td>\n",
       "</tr>\n",
       "<tr>\n",
       "  <th>processor_gnrtn</th> <td>  -94.2342</td> <td>   17.178</td> <td>   -5.486</td> <td> 0.000</td> <td> -127.961</td> <td>  -60.508</td>\n",
       "</tr>\n",
       "<tr>\n",
       "  <th>graphic_card_gb</th> <td>   91.3830</td> <td>    8.397</td> <td>   10.882</td> <td> 0.000</td> <td>   74.896</td> <td>  107.870</td>\n",
       "</tr>\n",
       "<tr>\n",
       "  <th>display_size</th>    <td>   81.8189</td> <td>   11.863</td> <td>    6.897</td> <td> 0.000</td> <td>   58.529</td> <td>  105.109</td>\n",
       "</tr>\n",
       "<tr>\n",
       "  <th>Touchscreen</th>     <td>  294.1301</td> <td>   50.459</td> <td>    5.829</td> <td> 0.000</td> <td>  195.064</td> <td>  393.197</td>\n",
       "</tr>\n",
       "<tr>\n",
       "  <th>star_rating</th>     <td>  -21.7716</td> <td>    8.091</td> <td>   -2.691</td> <td> 0.007</td> <td>  -37.657</td> <td>   -5.887</td>\n",
       "</tr>\n",
       "</table>\n",
       "<table class=\"simpletable\">\n",
       "<tr>\n",
       "  <th>Omnibus:</th>       <td>438.493</td> <th>  Durbin-Watson:     </th> <td>   2.074</td>\n",
       "</tr>\n",
       "<tr>\n",
       "  <th>Prob(Omnibus):</th> <td> 0.000</td>  <th>  Jarque-Bera (JB):  </th> <td>4700.689</td>\n",
       "</tr>\n",
       "<tr>\n",
       "  <th>Skew:</th>          <td> 2.611</td>  <th>  Prob(JB):          </th> <td>    0.00</td>\n",
       "</tr>\n",
       "<tr>\n",
       "  <th>Kurtosis:</th>      <td>14.415</td>  <th>  Cond. No.          </th> <td>1.76e+03</td>\n",
       "</tr>\n",
       "</table><br/><br/>Notes:<br/>[1] R² is computed without centering (uncentered) since the model does not contain a constant.<br/>[2] Standard Errors assume that the covariance matrix of the errors is correctly specified.<br/>[3] The condition number is large, 1.76e+03. This might indicate that there are<br/>strong multicollinearity or other numerical problems."
      ],
      "text/plain": [
       "<class 'statsmodels.iolib.summary.Summary'>\n",
       "\"\"\"\n",
       "                                 OLS Regression Results                                \n",
       "=======================================================================================\n",
       "Dep. Variable:           latest_price   R-squared (uncentered):                   0.871\n",
       "Model:                            OLS   Adj. R-squared (uncentered):              0.870\n",
       "Method:                 Least Squares   F-statistic:                              599.0\n",
       "Date:                Wed, 15 Jun 2022   Prob (F-statistic):                   3.39e-309\n",
       "Time:                        15:15:05   Log-Likelihood:                         -5338.1\n",
       "No. Observations:                 716   AIC:                                  1.069e+04\n",
       "Df Residuals:                     708   BIC:                                  1.073e+04\n",
       "Df Model:                           8                                                  \n",
       "Covariance Type:            nonrobust                                                  \n",
       "===================================================================================\n",
       "                      coef    std err          t      P>|t|      [0.025      0.975]\n",
       "-----------------------------------------------------------------------------------\n",
       "ram_gb             34.0976      4.000      8.525      0.000      26.245      41.950\n",
       "ssd                 0.7666      0.070     10.952      0.000       0.629       0.904\n",
       "hdd                 0.1281      0.050      2.578      0.010       0.031       0.226\n",
       "processor_gnrtn   -94.2342     17.178     -5.486      0.000    -127.961     -60.508\n",
       "graphic_card_gb    91.3830      8.397     10.882      0.000      74.896     107.870\n",
       "display_size       81.8189     11.863      6.897      0.000      58.529     105.109\n",
       "Touchscreen       294.1301     50.459      5.829      0.000     195.064     393.197\n",
       "star_rating       -21.7716      8.091     -2.691      0.007     -37.657      -5.887\n",
       "==============================================================================\n",
       "Omnibus:                      438.493   Durbin-Watson:                   2.074\n",
       "Prob(Omnibus):                  0.000   Jarque-Bera (JB):             4700.689\n",
       "Skew:                           2.611   Prob(JB):                         0.00\n",
       "Kurtosis:                      14.415   Cond. No.                     1.76e+03\n",
       "==============================================================================\n",
       "\n",
       "Notes:\n",
       "[1] R² is computed without centering (uncentered) since the model does not contain a constant.\n",
       "[2] Standard Errors assume that the covariance matrix of the errors is correctly specified.\n",
       "[3] The condition number is large, 1.76e+03. This might indicate that there are\n",
       "strong multicollinearity or other numerical problems.\n",
       "\"\"\""
      ]
     },
     "execution_count": 22,
     "metadata": {},
     "output_type": "execute_result"
    }
   ],
   "source": [
    "ols.summary()"
   ]
  },
  {
   "cell_type": "markdown",
   "id": "ab30b42c",
   "metadata": {
    "slideshow": {
     "slide_type": "subslide"
    }
   },
   "source": [
    "\n",
    "\n",
    "![thuonghieu](https://scontent.fsgn2-6.fna.fbcdn.net/v/t1.15752-9/280040354_741070763978882_7154761389525270094_n.png?_nc_cat=100&ccb=1-7&_nc_sid=ae9488&_nc_ohc=GwhlaB62IjwAX_mYQbI&_nc_ht=scontent.fsgn2-6.fna&oh=03_AVKuKw6_lYpGT6Tffyu9KufN2BqkROB5gnW5tPNR9KS8eA&oe=62CDE886)"
   ]
  },
  {
   "cell_type": "markdown",
   "id": "96355483",
   "metadata": {
    "slideshow": {
     "slide_type": "subslide"
    }
   },
   "source": [
    "Bảng giữa giá trị thực và dự đoán"
   ]
  },
  {
   "cell_type": "code",
   "execution_count": 23,
   "id": "2cdb5d10",
   "metadata": {
    "slideshow": {
     "slide_type": "fragment"
    }
   },
   "outputs": [
    {
     "data": {
      "text/html": [
       "<div>\n",
       "<style scoped>\n",
       "    .dataframe tbody tr th:only-of-type {\n",
       "        vertical-align: middle;\n",
       "    }\n",
       "\n",
       "    .dataframe tbody tr th {\n",
       "        vertical-align: top;\n",
       "    }\n",
       "\n",
       "    .dataframe thead th {\n",
       "        text-align: right;\n",
       "    }\n",
       "</style>\n",
       "<table border=\"1\" class=\"dataframe\">\n",
       "  <thead>\n",
       "    <tr style=\"text-align: right;\">\n",
       "      <th></th>\n",
       "      <th>Lastest Price</th>\n",
       "      <th>Prediction</th>\n",
       "    </tr>\n",
       "  </thead>\n",
       "  <tbody>\n",
       "    <tr>\n",
       "      <th>145</th>\n",
       "      <td>597.090</td>\n",
       "      <td>905.096</td>\n",
       "    </tr>\n",
       "    <tr>\n",
       "      <th>60</th>\n",
       "      <td>519.987</td>\n",
       "      <td>694.214</td>\n",
       "    </tr>\n",
       "    <tr>\n",
       "      <th>733</th>\n",
       "      <td>649.870</td>\n",
       "      <td>572.447</td>\n",
       "    </tr>\n",
       "    <tr>\n",
       "      <th>31</th>\n",
       "      <td>388.570</td>\n",
       "      <td>485.361</td>\n",
       "    </tr>\n",
       "    <tr>\n",
       "      <th>506</th>\n",
       "      <td>844.870</td>\n",
       "      <td>840.002</td>\n",
       "    </tr>\n",
       "    <tr>\n",
       "      <th>...</th>\n",
       "      <td>...</td>\n",
       "      <td>...</td>\n",
       "    </tr>\n",
       "    <tr>\n",
       "      <th>635</th>\n",
       "      <td>3457.974</td>\n",
       "      <td>2395.691</td>\n",
       "    </tr>\n",
       "    <tr>\n",
       "      <th>308</th>\n",
       "      <td>766.870</td>\n",
       "      <td>1611.099</td>\n",
       "    </tr>\n",
       "    <tr>\n",
       "      <th>384</th>\n",
       "      <td>935.870</td>\n",
       "      <td>1087.862</td>\n",
       "    </tr>\n",
       "    <tr>\n",
       "      <th>895</th>\n",
       "      <td>747.370</td>\n",
       "      <td>776.979</td>\n",
       "    </tr>\n",
       "    <tr>\n",
       "      <th>1</th>\n",
       "      <td>254.670</td>\n",
       "      <td>457.627</td>\n",
       "    </tr>\n",
       "  </tbody>\n",
       "</table>\n",
       "<p>180 rows × 2 columns</p>\n",
       "</div>"
      ],
      "text/plain": [
       "     Lastest Price  Prediction\n",
       "145        597.090     905.096\n",
       "60         519.987     694.214\n",
       "733        649.870     572.447\n",
       "31         388.570     485.361\n",
       "506        844.870     840.002\n",
       "..             ...         ...\n",
       "635       3457.974    2395.691\n",
       "308        766.870    1611.099\n",
       "384        935.870    1087.862\n",
       "895        747.370     776.979\n",
       "1          254.670     457.627\n",
       "\n",
       "[180 rows x 2 columns]"
      ]
     },
     "execution_count": 23,
     "metadata": {},
     "output_type": "execute_result"
    }
   ],
   "source": [
    "compare = pd.DataFrame([y_test, y_pred])\n",
    "compare.index = ['Lastest Price', 'Prediction']\n",
    "compare.T"
   ]
  },
  {
   "cell_type": "markdown",
   "id": "c1f095d3",
   "metadata": {
    "slideshow": {
     "slide_type": "subslide"
    }
   },
   "source": [
    "![thuonghieu](https://scontent.fsgn2-6.fna.fbcdn.net/v/t1.15752-9/285899720_740243010457334_8303392666699702894_n.png?_nc_cat=110&ccb=1-7&_nc_sid=ae9488&_nc_ohc=MUbaXspFsAcAX88a_I-&_nc_ht=scontent.fsgn2-6.fna&oh=03_AVL0HCyYWCQaKV4tF13VdO2AleggUaDy2BPENLyOE2rcRQ&oe=62D067FB)\n",
    "\n",
    "Mô hình giá trị dự đoán và sai số hồi quy"
   ]
  },
  {
   "cell_type": "markdown",
   "id": "ec64b82a",
   "metadata": {
    "slideshow": {
     "slide_type": "subslide"
    }
   },
   "source": [
    "![thuonghieu](https://scontent.fsgn2-5.fna.fbcdn.net/v/t1.15752-9/286027822_985497435445665_9058006589763986100_n.png?_nc_cat=104&ccb=1-7&_nc_sid=ae9488&_nc_ohc=5Ze7xXReuYkAX90kQGg&_nc_ht=scontent.fsgn2-5.fna&oh=03_AVJ-RPEyUXdpTulQSBczeazstle8J3Zn5tJK2cDnUjU7mw&oe=62CDAF44)\n",
    "\n",
    "Ta có thể thấy mô hình này giải thích được 87,1% sự biến động của giá laptop"
   ]
  },
  {
   "cell_type": "markdown",
   "id": "ccdaf8b0",
   "metadata": {
    "slideshow": {
     "slide_type": "slide"
    }
   },
   "source": [
    "# Kết luận\n",
    "Thông qua nghiên cứu, nhóm đã thực hiện được những công việc sau:\n",
    "- Sử dụng được các phương pháp kiểm định thống kê trong việc tìm ra các nhân tố ảnh hưởng tới mức giá của laptop.\n",
    "- Sử dụng mô hình hồi quy tuyến tính để xây dựng được mô hình tính giá laptop với các thành phần cho trước."
   ]
  },
  {
   "cell_type": "markdown",
   "id": "3de79a28",
   "metadata": {
    "slideshow": {
     "slide_type": "slide"
    }
   },
   "source": [
    "# Hỏi và trả lời"
   ]
  }
 ],
 "metadata": {
  "celltoolbar": "Slideshow",
  "kernelspec": {
   "display_name": "Python 3 (ipykernel)",
   "language": "python",
   "name": "python3"
  },
  "language_info": {
   "codemirror_mode": {
    "name": "ipython",
    "version": 3
   },
   "file_extension": ".py",
   "mimetype": "text/x-python",
   "name": "python",
   "nbconvert_exporter": "python",
   "pygments_lexer": "ipython3",
   "version": "3.9.12"
  }
 },
 "nbformat": 4,
 "nbformat_minor": 5
}
